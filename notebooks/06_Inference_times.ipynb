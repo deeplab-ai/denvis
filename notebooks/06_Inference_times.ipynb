{
 "cells": [
  {
   "cell_type": "markdown",
   "id": "386e55c5-54d4-45c5-8133-a14341a69d8d",
   "metadata": {},
   "source": [
    "# Inference times\n",
    "This notebook performs a comparison of DENVIS and DeepDTA models with regards to their screening (inference) times.\n",
    "\n",
    "For DENVIS we investigate the following parameters:\n",
    "* Atom-level vs. surface-level\n",
    "* Efficient implementation vs. naive implementation. With efficient implementation protein pockets embeddings are pre-computed and stored into memory, whereas with naive implementation the embeddings are computed afresh for each protein pocket-ligand pair.\n",
    "\n",
    "We also show results for single protein-ligand pair inference vs. total time when using a model ensemble with 5 atom-level and 5 surface-level instances.\n",
    "\n",
    "For all models, inference has been run for 20 times and timings are averaged (i.e. using mean)."
   ]
  },
  {
   "cell_type": "code",
   "execution_count": 3,
   "id": "84a5d663-bc10-4ca4-b049-0f8144a8a484",
   "metadata": {},
   "outputs": [],
   "source": [
    "import os \n",
    "import json\n",
    "\n",
    "import pandas as pd\n",
    "import matplotlib.pyplot as plt\n",
    "import seaborn as sns; sns.set()\n",
    "\n",
    "import inference_times"
   ]
  },
  {
   "cell_type": "markdown",
   "id": "990e5135-a0b9-4273-8ac0-a59a130e587d",
   "metadata": {},
   "source": [
    "# 1. Configuration"
   ]
  },
  {
   "cell_type": "code",
   "execution_count": 4,
   "id": "e5c5475b-ee49-44e4-befc-ab607f049f31",
   "metadata": {},
   "outputs": [],
   "source": [
    "NUM_BASE_MODELS = 5  # Number of base models in the ensembles\n",
    "\n",
    "TOT_RUNS = 20  # Number of runs that inference times have been measured (to estimate error bars)\n",
    "\n",
    "models = ['atom', 'surface']\n",
    "screening_types = ['efficient', 'naive']\n",
    "\n",
    "PATH_RESULTS = {\n",
    "    'DENVIS': '../data/times/denvis/',\n",
    "    'DeepDTA': '../data/times/deepdta/'}"
   ]
  },
  {
   "cell_type": "markdown",
   "id": "f0069a55-d355-4b08-b002-cfd2d6925b7e",
   "metadata": {},
   "source": [
    "# 2. Parse ressults"
   ]
  },
  {
   "cell_type": "code",
   "execution_count": 10,
   "id": "85ada9d3-6ddb-4a58-bb68-c4c801835085",
   "metadata": {},
   "outputs": [],
   "source": [
    "columns = ['Model', 'Type', 'Run', 'Time']\n",
    "times_df = pd.DataFrame(columns=columns)\n",
    "for model in models:\n",
    "    for screening_type in screening_types:\n",
    "        for run in range(TOT_RUNS):\n",
    "            fpath = os.path.join(\n",
    "                PATH_RESULTS['DENVIS'], model + '_level', screening_type, 'run_' + str(run), 'dude.json')\n",
    "            time = inference_times.read_denvis_times(fpath)\n",
    "            times_df = pd.concat(\n",
    "                (times_df, pd.DataFrame(\n",
    "                    {'Model': [model],\n",
    "                     'Type': screening_type,\n",
    "                     'Run': run,\n",
    "                     'Time': time})), axis='index')\n",
    "                \n",
    "# Create extra entries for ensemble models (sum the respective times)\n",
    "sum_df = times_df.groupby(by=['Type', 'Run'], group_keys=False).sum().reset_index(drop=False)\n",
    "sum_df['Model'] = 'ensemble'\n",
    "times_df = pd.concat((times_df, sum_df), axis='index')\n",
    "\n",
    "# If using a version ensemble, multiple times by number of ensembles\n",
    "times_df['Total time'] = times_df['Time'] * NUM_BASE_MODELS\n",
    "\n",
    "# DeepDTA\n",
    "columns = ['Model', 'Time', 'Type']\n",
    "times_df_deepdta = pd.DataFrame(columns=columns)\n",
    "for run in range(TOT_RUNS):\n",
    "    fpath = os.path.join(PATH_RESULTS['DeepDTA'], 'run_' + str(run),  'dude_times.csv')\n",
    "    time = inference_times.read_deepdta_times(fpath)\n",
    "    times_df_deepdta = pd.concat(\n",
    "        (times_df_deepdta, pd.DataFrame({\n",
    "            \"Model\": ['deepDTA'],\n",
    "            'Type': ['naive'],\n",
    "            'Time': [time],\n",
    "            'Total time': [time]})), axis='index')\n",
    "\n",
    "# Combine all\n",
    "times_df_all = pd.concat((times_df, times_df_deepdta), axis=0)"
   ]
  },
  {
   "cell_type": "markdown",
   "id": "e3f7edb2-1ced-4859-b5c3-0524e9f98b7b",
   "metadata": {},
   "source": [
    "# 3. Display average inference times (Table 5)"
   ]
  },
  {
   "cell_type": "code",
   "execution_count": 13,
   "id": "30d009f1-4e0f-4c96-a732-ac97144d0c92",
   "metadata": {},
   "outputs": [
    {
     "name": "stdout",
     "output_type": "stream",
     "text": [
      "Average prediction time for ensemble model with efficient implementation: single prediction 0.314 ± 0.008 , ensemble prediction 1.570 ± 0.039 (mean ± std, ms).\n",
      "Average prediction time for ensemble model with naive implementation: single prediction 1.908 ± 0.003 , ensemble prediction 9.540 ± 0.014 (mean ± std, ms).\n",
      "Average prediction time for deepDTA model with naive implementation: 0.582 ± 0.006 (mean ± std).\n"
     ]
    }
   ],
   "source": [
    "for model in ['ensemble', 'deepDTA']:\n",
    "    if model == 'deepDTA':\n",
    "        pred_mean = times_df_all[(times_df_all['Model']==model) & (times_df_all['Type']=='naive')]['Time'].mean()\n",
    "        pred_std = times_df_all[(times_df_all['Model']==model) & (times_df_all['Type']=='naive')]['Time'].std()\n",
    "        print(f\"Average prediction time for {model} model with {implementation} implementation: {1000 * pred_mean:.3f} ± {1000 * pred_std:.3f} (mean ± std).\")\n",
    "    else:\n",
    "        for implementation in ['efficient', 'naive']:\n",
    "            single_pred_mean = times_df_all[(times_df_all['Model']==model) & (times_df_all['Type']==implementation)]['Time'].mean()\n",
    "            single_pred_std = times_df_all[(times_df_all['Model']==model) & (times_df_all['Type']==implementation)]['Time'].std()\n",
    "            ensemble_pred_mean = times_df_all[(times_df_all['Model']==model) & (times_df_all['Type']==implementation)]['Total time'].mean()\n",
    "            ensemble_pred_std = times_df_all[(times_df_all['Model']==model) & (times_df_all['Type']==implementation)]['Total time'].std()\n",
    "            print(f\"Average prediction time for {model} model with {implementation} implementation: single prediction {1000 * single_pred_mean:.3f} ± {1000 * single_pred_std:.3f} , ensemble prediction {1000 * ensemble_pred_mean:.3f} ± {1000 * ensemble_pred_std:.3f} (mean ± std, ms).\")\n"
   ]
  }
 ],
 "metadata": {
  "kernelspec": {
   "display_name": "Python 3 (ipykernel)",
   "language": "python",
   "name": "python3"
  },
  "language_info": {
   "codemirror_mode": {
    "name": "ipython",
    "version": 3
   },
   "file_extension": ".py",
   "mimetype": "text/x-python",
   "name": "python",
   "nbconvert_exporter": "python",
   "pygments_lexer": "ipython3",
   "version": "3.7.11"
  }
 },
 "nbformat": 4,
 "nbformat_minor": 5
}
