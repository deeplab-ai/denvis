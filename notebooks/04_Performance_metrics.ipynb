{
 "cells": [
  {
   "cell_type": "markdown",
   "id": "96ae6468-2e15-494f-8fcb-0b29f46ec1a4",
   "metadata": {},
   "source": [
    "# Performance metrics\n",
    "This notebook performs an analysis on the three metrics: AUROC and EF1 and BEDROC.\n",
    "\n",
    "We study the linear relationship of the two metrics using our atom/surface-level ensemble (DENVIS) trained on PDBbind refined set.\n",
    "\n",
    "Additionally, we plot an example of prediction scores for active/decoys for a single target using DENVIS. We show that for, some cases, it is possible that the active/decoy distributions overlapin the low score range but be clearly separated in the higher range, thus leading to high EF1 scores."
   ]
  },
  {
   "cell_type": "code",
   "execution_count": 1,
   "id": "996ca8e1-b19d-47f0-9589-b390cd67dfe0",
   "metadata": {},
   "outputs": [],
   "source": [
    "import numpy as np\n",
    "import scipy as sp\n",
    "import pandas as pd\n",
    "import matplotlib.pyplot as plt\n",
    "import seaborn as sns; sns.set()\n",
    "\n",
    "import ensembling\n",
    "import metrics\n",
    "import parsing\n",
    "import postprocessing"
   ]
  },
  {
   "cell_type": "markdown",
   "id": "0e857040-69ce-4942-8746-352dbe0749b2",
   "metadata": {},
   "source": [
    "# 1. Configuration"
   ]
  },
  {
   "cell_type": "code",
   "execution_count": 2,
   "id": "63e8edd2-d8f1-47da-8f7e-758134ccc4b4",
   "metadata": {},
   "outputs": [],
   "source": [
    "AVG_FUN = np.nanmedian  # Reduce function to compute averages across targets. Using nanmedian because there is one target missing from RF/NN-score\n",
    "EF_ALPHA = 0.01 # alpha for EF metric (i.e., EF1)\n",
    "BEDROC_ALPHA = 80.5 # alpha for BedROC metric (i.e, BedROC80.5)\n",
    "\n",
    "DATASET = 'DUD-E'\n",
    "\n",
    "PATH_RESULTS = {\n",
    "    'atom': '../data/outputs/denvis_outputs/dude_main_refined_atom.parquet',\n",
    "    'surface': '../data/outputs/denvis_outputs/dude_main_refined_surface.parquet'}"
   ]
  },
  {
   "cell_type": "markdown",
   "id": "13343563-daeb-4b18-8639-9d61f437fe82",
   "metadata": {},
   "source": [
    "# 2. Parse results"
   ]
  },
  {
   "cell_type": "code",
   "execution_count": 3,
   "id": "d15f86a6-ca94-4e71-9d3c-5eaab014ac89",
   "metadata": {},
   "outputs": [],
   "source": [
    "results, results_cache = dict(), dict()\n",
    "for protein_model, path in PATH_RESULTS.items():\n",
    "    results_tmp, _ = parsing.parse_results_denvis(path)\n",
    "    results_tmp = ensembling.compute_ensemble_scores(results_tmp, version=True)\n",
    "    results_cache[protein_model] = results_tmp  # Will be used for computing atom/surface-level ensemble scores\n",
    "    results[protein_model] = postprocessing.combine_outputs(results_tmp, y_aff_weight=0.0, y_kd_weight=0.5, y_ki_weight=0.5, y_ic50_weight=0.0, use_clf=False)\n",
    "\n",
    "# Atom/surface ensemble\n",
    "results['ensemble'] = ensembling.compute_level_ensemble_scores(results_cache['atom'], results_cache['surface'], atom_weight=0.5, use_target_intersection=False)\n",
    "results['ensemble'] = postprocessing.combine_outputs(results['ensemble'], y_aff_weight=0.0, y_kd_weight=0.5, y_ki_weight=0.5, y_ic50_weight=0.0, use_clf=False)"
   ]
  },
  {
   "cell_type": "markdown",
   "id": "3fd61b9f-189f-410f-ba3f-59af4aa1b243",
   "metadata": {},
   "source": [
    "# 3. Performance scores"
   ]
  },
  {
   "cell_type": "code",
   "execution_count": 4,
   "id": "d8e09f84-5a7f-4429-a120-554d8ecb949a",
   "metadata": {},
   "outputs": [],
   "source": [
    "auroc_pt, auroc_micro = dict(), dict()  # Keys are models\n",
    "ef1_pt, ef1_micro = dict(), dict()  # Keys are models\n",
    "bedroc_pt, bedroc_micro = dict(), dict()  # Keys are models\n",
    "\n",
    "for model, result in results.items():\n",
    "    auroc_pt[model], auroc_micro[model] = metrics.compute_auroc_scores(result, avg_fun=AVG_FUN)\n",
    "    ef1_pt[model], ef1_micro[model] = metrics.compute_ef_scores(result, alpha=EF_ALPHA, avg_fun=AVG_FUN)\n",
    "    bedroc_pt[model], bedroc_micro[model] = metrics.compute_bedroc_scores(result, alpha=BEDROC_ALPHA, avg_fun=AVG_FUN)\n",
    "\n",
    "# Tidy-format\n",
    "tf_df = pd.DataFrame(columns=['Model', 'Target', 'AUROC', 'EF1', 'BEDROC80.5'])\n",
    "for model in results:\n",
    "    for target in auroc_pt[model].keys():\n",
    "        new_entry = pd.DataFrame({\n",
    "            'Model': [model],\n",
    "            'Target': [target],\n",
    "            'AUROC': [auroc_pt[model][target]],\n",
    "            'EF1': [ef1_pt[model][target]],\n",
    "            'BEDROC80.5': [bedroc_pt[model][target]]})\n",
    "        tf_df = pd.concat((tf_df, new_entry), axis='index')\n",
    "tf_df.reset_index(inplace=True)"
   ]
  },
  {
   "cell_type": "markdown",
   "id": "401200c4-0bbb-4204-b647-3c9bb7250f72",
   "metadata": {},
   "source": [
    "# 4. Scatter plot comparisons & active/decoy distributions for a single target (Figure 7)"
   ]
  },
  {
   "cell_type": "code",
   "execution_count": 5,
   "id": "df2b13fb-cfb6-40cc-9584-a7bb7c38f844",
   "metadata": {},
   "outputs": [
    {
     "data": {
      "image/png": "[encoded data removed]",
      "text/plain": [
       "<Figure size 403.2x122.4 with 3 Axes>"
      ]
     },
     "metadata": {},
     "output_type": "display_data"
    },
    {
     "name": "stdout",
     "output_type": "stream",
     "text": [
      "\n",
      " AUROC 0.78 and EF1 31.1 and BEDROC80.5 0.50\n"
     ]
    }
   ],
   "source": [
    "pdb = 'kpcb'\n",
    "\n",
    "font_scale = 0.8\n",
    "lw = 1.5\n",
    "figsize = (5.6,1.7)\n",
    "marker_size = 5\n",
    "bins = 30\n",
    "xlim_regplot = [0.39, 1.01]\n",
    "ylim_regplot_ef1 = [-1, 61]\n",
    "ylim_regplot_bedroc = [-0.01, 1.01]\n",
    "inset_x_ef1 = 0.42\n",
    "inset_y_ef1 = 49\n",
    "inset_x_bedroc = 0.42\n",
    "inset_y_bedroc = 0.82\n",
    "xlim_distplot = [-4,10]\n",
    "ylim_distplot = [0., 0.45]\n",
    "truncate = True\n",
    "kde_kws = {'cut': 10}\n",
    "\n",
    "sns.set_context(\"paper\", font_scale=font_scale, rc={\"lines.linewidth\": lw})\n",
    "f, axes = plt.subplots(1, 3, figsize=figsize)\n",
    "\n",
    "# EF1 vs AUROC\n",
    "auroc_ens = tf_df[tf_df['Model'] == 'ensemble']['AUROC']\n",
    "ef1_ens = tf_df[tf_df['Model'] == 'ensemble']['EF1']\n",
    "r0, p0 = sp.stats.pearsonr(x=auroc_ens, y=ef1_ens)\n",
    "sns.regplot(x=auroc_ens, y=ef1_ens, ax=axes[0], scatter_kws={'s': marker_size},\n",
    "            truncate=truncate, label=f'r={r0:0.2f}\\n p={p0:.2e}')\n",
    "axes[0].set_title('DENVIS-R')\n",
    "axes[0].set_ylabel(r'EF$_{1}$')\n",
    "axes[0].set_xlim(xlim_regplot)\n",
    "axes[0].set_ylim(ylim_regplot_ef1)\n",
    "handles, labels = axes[0].get_legend_handles_labels()\n",
    "props = dict(boxstyle='round', facecolor='#EAEAF2', alpha=1)\n",
    "axes[0].text(x=inset_x_ef1, y=inset_y_ef1, s=f'r={r0:0.2f}\\np={p0:.2e}', bbox=props)\n",
    "\n",
    "# BEDROC vs AUROC\n",
    "auroc_ens = tf_df[tf_df['Model'] == 'ensemble']['AUROC']\n",
    "bedroc_ens = tf_df[tf_df['Model'] == 'ensemble']['BEDROC80.5']\n",
    "r1, p1 = sp.stats.pearsonr(x=auroc_ens, y=bedroc_ens)\n",
    "sns.regplot(x=auroc_ens, y=bedroc_ens, ax=axes[1], scatter_kws={'s': marker_size},\n",
    "            truncate=truncate, label=f'r={r1:0.2f}, p={p1:.2e}',\n",
    "            color=sns.color_palette()[0])\n",
    "axes[1].set_title('DENVIS-R')\n",
    "axes[1].set_ylabel(r'BEDROC$_{80.5}$')\n",
    "axes[1].set_xlim(xlim_regplot)\n",
    "axes[1].set_ylim(ylim_regplot_bedroc)\n",
    "handles, labels = axes[1].get_legend_handles_labels()\n",
    "axes[1].text(x=inset_x_bedroc, y=inset_y_bedroc, s=f'r={r1:0.2f}\\np={p1:.2e}', bbox=props)\n",
    "\n",
    "# Distplot for active/decoys\n",
    "results_ens = results['ensemble']\n",
    "ef_top_percentile = results_ens[results_ens['target_id'] == pdb]['y_score'].quantile(1. - EF_ALPHA)\n",
    "sns.histplot(x=results_ens[(results_ens['target_id']==pdb) & (results_ens['y_true'])]['y_score'], \n",
    "             label='Actives',\n",
    "             bins=bins,\n",
    "             stat=\"density\",\n",
    "             kde=True,\n",
    "             kde_kws=kde_kws,\n",
    "             common_norm=False, \n",
    "             ax=axes[2],\n",
    "             color=sns.color_palette(n_colors=3)[2])\n",
    "sns.histplot(x=results_ens[(results_ens['target_id']==pdb) & ~(results_ens['y_true'])]['y_score'],\n",
    "             label='Decoys',\n",
    "             bins=bins,\n",
    "             kde=True,\n",
    "             kde_kws=kde_kws,\n",
    "             stat=\"density\",\n",
    "             common_norm=False,\n",
    "             ax=axes[2],\n",
    "             color=sns.color_palette(n_colors=3)[1])\n",
    "axes[2].set_xlabel('Binding affinity prediction \\n (DENVIS-R)')\n",
    "axes[2].set_ylabel('Density')\n",
    "axes[2].set_xlim(xlim_distplot)\n",
    "axes[2].set_ylim(ylim_distplot)\n",
    "axes[2].axvline(x=ef_top_percentile, ls='--', c='black', label=r'EF$_{1}$ threshold')\n",
    "axes[2].set_title(f'Target {pdb.upper()}')\n",
    "handles, labels = axes[2].get_legend_handles_labels()\n",
    "axes[2].legend(handles=handles, bbox_to_anchor=(0, 1.6), loc='upper left',\n",
    "           labels = labels)\n",
    "\n",
    "axes[0].text(x=0.1, y=73, s='(a)')\n",
    "axes[1].text(x=0.07, y=1.15, s='(b)')\n",
    "axes[2].text(x=-11, y=0.52, s='(c)')\n",
    "\n",
    "plt.subplots_adjust(wspace=0.7)\n",
    "plt.show()\n",
    "print('\\n AUROC '\n",
    "      f'{tf_df[(tf_df[\"Model\"] == \"ensemble\") & (tf_df[\"Target\"] == pdb)][\"AUROC\"].iloc[0]:.2f} and ' + r'EF1 '\n",
    "      f'{tf_df[(tf_df[\"Model\"] == \"ensemble\") & (tf_df[\"Target\"] == pdb)][\"EF1\"].iloc[0]:.1f} and ' + r'BEDROC80.5 '\n",
    "      f'{tf_df[(tf_df[\"Model\"] == \"ensemble\") & (tf_df[\"Target\"] == pdb)][\"BEDROC80.5\"].iloc[0]:.2f}' )"
   ]
  }
 ],
 "metadata": {
  "kernelspec": {
   "display_name": "Python 3 (ipykernel)",
   "language": "python",
   "name": "python3"
  },
  "language_info": {
   "codemirror_mode": {
    "name": "ipython",
    "version": 3
   },
   "file_extension": ".py",
   "mimetype": "text/x-python",
   "name": "python",
   "nbconvert_exporter": "python",
   "pygments_lexer": "ipython3",
   "version": "3.7.11"
  }
 },
 "nbformat": 4,
 "nbformat_minor": 5
}
