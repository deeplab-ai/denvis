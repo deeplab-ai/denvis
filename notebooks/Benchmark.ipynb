{
 "cells": [
  {
   "cell_type": "code",
   "execution_count": 1,
   "id": "ddc2f51d-138a-4199-9809-0f9cfa65ba20",
   "metadata": {},
   "outputs": [],
   "source": [
    "%load_ext autoreload\n",
    "%autoreload 2"
   ]
  },
  {
   "cell_type": "code",
   "execution_count": 2,
   "id": "0231770e-d369-44d9-9ef7-f11df639cac3",
   "metadata": {},
   "outputs": [],
   "source": [
    "import os\n",
    "import numpy as np\n",
    "import pandas as pd\n",
    "import pingouin as pg\n",
    "import matplotlib.pyplot as plt\n",
    "import seaborn as sns; sns.set()\n",
    "\n",
    "import ensembling\n",
    "import metrics\n",
    "import parsing\n",
    "import plotting_utils\n",
    "import postprocessing"
   ]
  },
  {
   "cell_type": "code",
   "execution_count": 3,
   "id": "e5c0605e-e3a0-4e24-9c09-36ea631af5f2",
   "metadata": {},
   "outputs": [],
   "source": [
    "MAIN_PATH = '../data/outputs'\n",
    "AVG_FUN = np.nanmedian  # Reduce function to compute averages across targets. Using nanmedian because there is some issue with RF/NN-score.\n",
    "PROTEIN_LIGAND_PAIR_REDUCE = 'max'  # Reduce function for protein-ligand pairs multiple entries (e.g. Vina, docking, RF/NN-score etc.)\n",
    "PAIR_ID_COLS = ['target_id', 'ligand_id']  # Specifies a unique protein-ligand pair\n",
    "\n",
    "PATH_RESULTS = {\n",
    "    \"DENVIS-G\": {\n",
    "        \"atom\": os.path.join(MAIN_PATH, 'denvis_outputs', 'dude_main_general_atom.parquet'),\n",
    "        \"surface\": os.path.join(MAIN_PATH, 'denvis_outputs', 'dude_main_general_surface.parquet'),},\n",
    "    \"DENVIS-R\": {\n",
    "        \"atom\": os.path.join(MAIN_PATH, 'newdefault_CNNscore-max.summary', 'dude_main_refined_atom.parquet'),\n",
    "        \"surface\": os.path.join(MAIN_PATH, 'denvis_outputs', 'dude_main_refined_surface.parquet')},\n",
    "    \"GNINA\": os.path.join(MAIN_PATH, 'newdefault_CNNscore-max.summary'),\n",
    "    \"Vina\": MAIN_PATH,\n",
    "    \"RF-score\": os.path.join(MAIN_PATH, 'vina_outputs', 'dude.csv'),\n",
    "    \"NN-score\": MAIN_PATH,\n",
    "    \"Deep DTA\": MAIN_PATH,\n",
    "    \"Ligand bsl.\": MAIN_PATH}\n",
    "\n",
    "# Network output combination kwargs for refined/general models\n",
    "OUTPUT_COMBINATION_KWS = {\n",
    "    'refined': {'y_aff_weight': 0., 'y_kd_weight': 0.5, 'y_ki_weight': 0.5, 'y_ic50_weight': 0.0, 'use_clf': False, 'clf_strategy': None},\n",
    "    'general': {'y_aff_weight': 0., 'y_kd_weight': 0.5, 'y_ki_weight': 0.5, 'y_ic50_weight': 0.5, 'use_clf': False, 'clf_strategy': None},\n",
    "}"
   ]
  },
  {
   "cell_type": "code",
   "execution_count": 5,
   "id": "345ea84c-c407-4073-b253-e6e104b3ee13",
   "metadata": {},
   "outputs": [
    {
     "data": {
      "text/plain": [
       "(        target_id      ligand_id  version  ckpt  y_true  y_score_Kd  \\\n",
       " 0            prgr  CHEMBL1164248        0     0    True    1.025230   \n",
       " 1            prgr  CHEMBL1164338        0     0    True    1.281144   \n",
       " 2            prgr   CHEMBL398801        0     0    True    2.119537   \n",
       " 3            prgr   CHEMBL102179        0     0    True    0.984597   \n",
       " 4            prgr   CHEMBL280805        0     0    True    1.856881   \n",
       " ...           ...            ...      ...   ...     ...         ...   \n",
       " 7079330      ptn1   ZINC59327091        4     0   False   -0.194650   \n",
       " 7079331      ptn1   ZINC62695184        4     0   False   -1.239572   \n",
       " 7079332      ptn1   ZINC64502652        4     0   False    0.970383   \n",
       " 7079333      ptn1   ZINC64502653        4     0   False    0.970383   \n",
       " 7079334      ptn1   ZINC64819979        4     0   False    0.039873   \n",
       " \n",
       "          y_score_Ki  y_score_IC50  \n",
       " 0          1.043376      2.447320  \n",
       " 1          0.824085      3.717463  \n",
       " 2          1.101511      2.514198  \n",
       " 3          2.029182      3.005362  \n",
       " 4          1.868232      2.154627  \n",
       " ...             ...           ...  \n",
       " 7079330    1.221411      0.180604  \n",
       " 7079331    2.574225     -0.360622  \n",
       " 7079332    3.378700      0.184954  \n",
       " 7079333    3.378700      0.184955  \n",
       " 7079334    2.295303     -0.594465  \n",
       " \n",
       " [7079335 rows x 8 columns],\n",
       " None)"
      ]
     },
     "execution_count": 5,
     "metadata": {},
     "output_type": "execute_result"
    }
   ],
   "source": [
    "p_ = os.path.join(MAIN_PATH, 'denvis_outputs', 'dude_main_general_atom.parquet')\n",
    "parsing.parse_results_denvis(p_)"
   ]
  },
  {
   "cell_type": "code",
   "execution_count": null,
   "id": "d305e50a-15ad-4edf-8f66-5eeee42ec6ca",
   "metadata": {},
   "outputs": [],
   "source": []
  },
  {
   "cell_type": "code",
   "execution_count": null,
   "id": "ff4f2d97-4295-4f5f-8103-53c7ce04b46d",
   "metadata": {},
   "outputs": [],
   "source": [
    "print(f\"Parsing atom-level results (refined)...\")\n",
    "results_tmp, _ = parsing.parse_results_denvis(PATH_RESULTS_REFINED_ATOM, dataset=DATASET, fmt='parquet')\n",
    "results_refined_atom = ensembling.compute_ensemble_scores(results_tmp, ckpt=True, version=True, pair_id_cols=PAIR_ID_COLS)\n",
    "\n",
    "print(f\"Parsing surface-level results (refined)...\")\n",
    "results_tmp, _ = parsing.parse_results_denvis(PATH_RESULTS_REFINED_SURFACE, dataset=DATASET, fmt='parquet')\n",
    "results_refined_surface = ensembling.compute_ensemble_scores(results_tmp, ckpt=True, version=True, pair_id_cols=PAIR_ID_COLS)\n",
    "\n",
    "print(f\"Parsing ligand baseline results (refined)...\")\n",
    "results_tmp, _ = parsing.parse_results_denvis(PATH_RESULTS_REFINED_LIGAND, dataset=DATASET, fmt='parquet')  \n",
    "results_refined_ligand = ensembling.compute_ensemble_scores(results_tmp, ckpt=True, version=True, pair_id_cols=PAIR_ID_COLS)\n",
    "\n",
    "print(f\"Parsing atom-level results (general)...\")\n",
    "results_tmp, _ = parsing.parse_results_denvis(PATH_RESULTS_GENERAL_ATOM, dataset=DATASET, fmt='parquet')\n",
    "results_general_atom = ensembling.compute_ensemble_scores(results_tmp, ckpt=True, version=True, pair_id_cols=PAIR_ID_COLS)\n",
    "\n",
    "print(f\"Parsing surface-level results (general)...\")\n",
    "results_tmp, _ = parsing.parse_results_denvis(PATH_RESULTS_GENERAL_SURFACE, dataset=DATASET, fmt='parquet')\n",
    "results_general_surface = ensembling.compute_ensemble_scores(results_tmp, ckpt=True, version=True, pair_id_cols=PAIR_ID_COLS)\n",
    "\n",
    "print(f\"Parsing ligand baseline results (general)...\")\n",
    "results_tmp, _ = parsing.parse_results_denvis(PATH_RESULTS_GENERAL_LIGAND, dataset=DATASET, fmt='parquet')  \n",
    "results_general_ligand = ensembling.compute_ensemble_scores(results_tmp, ckpt=True, version=True, pair_id_cols=PAIR_ID_COLS)\n",
    "\n",
    "print(f\"Parsing DeepDTA results...\")\n",
    "results_deep_dta = parsing.parse_results_deeppurpose(PATH_RESULTS_DEEP_DTA, dataset=DATASET)\n",
    "\n",
    "print(f\"Parsing Vina results...\")\n",
    "results_vina = parsing.parse_vina(PATH_RESULTS_VINA, dataset=DATASET, reduce=PROTEIN_LIGAND_PAIR_REDUCE)    \n",
    "\n",
    "print(f\"Parsing GNINA results...\")\n",
    "results_gnina = parsing.parse_results_gnina(PATH_RESULTS_GNINA, dataset=DATASET)\n",
    "\n",
    "print(f\"Parsing NN-score results...\")\n",
    "results_nn_score = parsing.parse_results_nn_score(PATH_RESULTS_RF_NN_SCORE, dataset=DATASET, reduce=PROTEIN_LIGAND_PAIR_REDUCE, prog_bar=True)\n",
    "print(f\"Parsing RF-score results...\")\n",
    "results_rf_score = parsing.parse_results_rf_score(PATH_RESULTS_RF_NN_SCORE, dataset=DATASET, reduce=PROTEIN_LIGAND_PAIR_REDUCE, prog_bar=True)\n",
    "\n",
    "print(f\"Parsing Glide results...\")\n",
    "results_glide = parsing.parse_results_docking(PATH_RESULTS_DOCKING, dataset=DATASET, method='Glide', reduce=PROTEIN_LIGAND_PAIR_REDUCE)\n",
    "print(f\"Parsing Surflex results...\")\n",
    "results_surflex = parsing.parse_results_docking(PATH_RESULTS_DOCKING, dataset=DATASET, method='Surflex', reduce=PROTEIN_LIGAND_PAIR_REDUCE)\n",
    "print(f\"Parsing Flexx results...\")\n",
    "results_flexx = parsing.parse_results_docking(PATH_RESULTS_DOCKING, dataset=DATASET, method='Flexx', reduce=PROTEIN_LIGAND_PAIR_REDUCE)\n",
    "print(f\"Parsing Gold results...\")\n",
    "results_gold = parsing.parse_results_docking(PATH_RESULTS_DOCKING, dataset=DATASET, method='Gold', reduce=PROTEIN_LIGAND_PAIR_REDUCE)\n",
    "\n",
    "print('Done.')"
   ]
  }
 ],
 "metadata": {
  "kernelspec": {
   "display_name": "Python 3 (ipykernel)",
   "language": "python",
   "name": "python3"
  },
  "language_info": {
   "codemirror_mode": {
    "name": "ipython",
    "version": 3
   },
   "file_extension": ".py",
   "mimetype": "text/x-python",
   "name": "python",
   "nbconvert_exporter": "python",
   "pygments_lexer": "ipython3",
   "version": "3.7.11"
  }
 },
 "nbformat": 4,
 "nbformat_minor": 5
}
