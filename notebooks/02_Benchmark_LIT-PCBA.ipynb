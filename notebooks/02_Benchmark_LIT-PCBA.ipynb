{
 "cells": [
  {
   "cell_type": "markdown",
   "id": "57ef1e92-4cc6-4b1f-b316-44add7b74eb0",
   "metadata": {
    "tags": []
   },
   "source": [
    "# Benchmark LIT-PCBA\n",
    "This notebook performs a performance comparison between different models using the LIT-PCBA dataset.\n",
    "\n",
    "The models in the benchmark are:\n",
    "* Our atom/surface-level ensemble (DENVIS) trained on PDBbind general set (DENVIS-G).\n",
    "* Our atom/surface-level ensemble (DENVIS) trained on PDBbind refined set (DENVIS-R).\n",
    "* GNINA\n",
    "* DeepDTA\n",
    "* Our ligand baseline trained on PDBbind refined set.\n",
    "\n",
    "We compare AUROC, EF1 and BedROC metrics. For each model we have one group comprising multiple targets. For micro-average scores we use median (as we make no assumptions regarding distributions of metrics).\n",
    "\n",
    "We do not perform a statistical analysis here due to the small number of targets in the dataset.\n",
    "\n",
    "**Warning**: Due to the large size of the dataset, parsing may take a very long time (up to a few hours) and may use a significant amount of memory (up to 50G). "
   ]
  },
  {
   "cell_type": "code",
   "execution_count": 1,
   "id": "0b91c0eb-a968-4645-add8-d43e2d96ad9c",
   "metadata": {},
   "outputs": [
    {
     "name": "stdout",
     "output_type": "stream",
     "text": [
      "env: OUTDATED_IGNORE=1  # suppress pingouing out-of-date warnings\n"
     ]
    }
   ],
   "source": [
    "%set_env OUTDATED_IGNORE=1  # suppress pingouing out-of-date warnings\n",
    "\n",
    "import os\n",
    "import numpy as np\n",
    "import pandas as pd\n",
    "import matplotlib.pyplot as plt\n",
    "import seaborn as sns; sns.set()\n",
    "import json\n",
    "import pingouin as pg\n",
    "\n",
    "import ensembling\n",
    "import metrics\n",
    "import parsing\n",
    "import postprocessing\n",
    "import plotting_utils"
   ]
  },
  {
   "cell_type": "markdown",
   "id": "ca04d848-ee79-4394-86f3-f8b2a22e9ca1",
   "metadata": {},
   "source": [
    "# 1. Configuration"
   ]
  },
  {
   "cell_type": "code",
   "execution_count": 2,
   "id": "5b522892-6439-40da-8a31-64258e3bc40b",
   "metadata": {},
   "outputs": [],
   "source": [
    "AVG_FUN = np.median  # Reduce function to compute averages across targets.\n",
    "EF_ALPHA = 0.01 # alpha for EF metric (i.e., EF1)\n",
    "BEDROC_ALPHA = 80.5 # alpha for BedROC metric (i.e, BedROC80.5)\n",
    "\n",
    "PERFORMANCE_METRICS = ['AUROC', 'EF1', 'BEDROC80.5']\n",
    "DATASET = 'LIT-PCBA'\n",
    "\n",
    "MAIN_PATH = '../data/outputs'\n",
    "PAIR_ID_COLS = ['target_id', 'target_pdb', 'ligand_id']  # Specifies a unique protein-ligand pair\n",
    "REDUCE_MULTIPLE_PDBS = 'max'  # Reduce function for multiple PDB files per target-ligand pair\n",
    "TARGET_PDB_CORRESPONDENCE = '../data/litpcba/lit_pcba_pdb_correspondence.json'\n",
    "\n",
    "PATH_RESULTS = {\n",
    "    'DENVIS-G': {\n",
    "        'atom': os.path.join(MAIN_PATH, 'denvis_outputs', 'litpcba_main_general_atom.parquet'),\n",
    "        'surface': os.path.join(MAIN_PATH, 'denvis_outputs', 'litpcba_main_general_surface.parquet'),},\n",
    "    'DENVIS-R': {\n",
    "        'atom': os.path.join(MAIN_PATH, 'denvis_outputs', 'litpcba_main_refined_atom.parquet'),\n",
    "        'surface': os.path.join(MAIN_PATH, 'denvis_outputs', 'litpcba_main_refined_surface.parquet')},\n",
    "    'Ligand bsl.': os.path.join(MAIN_PATH, 'denvis_outputs', 'litpcba_main_refined_ligand_bsl.parquet'),\n",
    "    'GNINA': os.path.join(MAIN_PATH, 'gnina_outputs/litpcba', 'newdefault_CNNaffinity-max.summary'),\n",
    "    'Deep DTA': os.path.join(MAIN_PATH, 'deepdta_outputs', 'litpcba_trained_pdbbind.json'),\n",
    "}\n",
    "\n",
    "# Network output aggregation kwargs for refined/general models\n",
    "# General models have three outpus (Kd, Ki, IC50), refined models have two (Ki, Kd)\n",
    "OUTPUT_COMBINATION_KWS = {\n",
    "    'DENVIS-G': {'y_aff_weight': 0., 'y_kd_weight': 0.5, 'y_ki_weight': 0.5, 'y_ic50_weight': 0.5, 'use_clf': False, 'clf_strategy': None},\n",
    "    'DENVIS-R': {'y_aff_weight': 0., 'y_kd_weight': 0.5, 'y_ki_weight': 0.5, 'y_ic50_weight': 0.0, 'use_clf': False, 'clf_strategy': None},\n",
    "    'Ligand bsl.': {'y_aff_weight': 0., 'y_kd_weight': 0.5, 'y_ki_weight': 0.5, 'y_ic50_weight': 0.0, 'use_clf': False, 'clf_strategy': None},\n",
    "}\n",
    "\n",
    "with open(TARGET_PDB_CORRESPONDENCE) as f:\n",
    "    target_id_pdb = json.load(f)"
   ]
  },
  {
   "cell_type": "markdown",
   "id": "a9c1bd2c-1a3b-40ba-86f1-68f4faa85625",
   "metadata": {},
   "source": [
    "# 2. Parse results"
   ]
  },
  {
   "cell_type": "code",
   "execution_count": 3,
   "id": "c041984b-d3ae-4580-8fc1-96669b51d66b",
   "metadata": {},
   "outputs": [
    {
     "name": "stdout",
     "output_type": "stream",
     "text": [
      "Parsing DENVIS-G results...\n",
      "Parsing DENVIS-R results...\n",
      "Parsing ligand baseline results (refined)...\n",
      "Parsing DeepDTA results...\n",
      "Parsing GNINA results...\n"
     ]
    }
   ],
   "source": [
    "results = dict()  # key-value pairs that will store the outputs DataFrame instances\n",
    "\n",
    "# For DENVIS, we have two models, one trained on PDBBind general and one trained on PDBbind refined sets.\n",
    "for model in ['DENVIS-G', 'DENVIS-R']:\n",
    "    results_cache = dict()\n",
    "    print(f\"Parsing {model} results...\")\n",
    "    # For each case we have two different types of model, depending on protein representation used: atom-level and surface-level\n",
    "    for protein_model in ['atom', 'surface']:\n",
    "        results_tmp, _ = parsing.parse_results_denvis(PATH_RESULTS[model][protein_model])\n",
    "        results_tmp = parsing.process_target_id(results_tmp, DATASET)\n",
    "        results_cache[protein_model] = ensembling.compute_ensemble_scores(results_tmp, version=True, pair_id_cols=PAIR_ID_COLS)  # Multi-run ensembles\n",
    "    \n",
    "    \n",
    "    results_ens = ensembling.compute_level_ensemble_scores(\n",
    "        results_cache['atom'], results_cache['surface'], atom_weight=0.5, use_target_intersection=False, pair_id_cols=PAIR_ID_COLS)  # Multi-level (atom/surface) ensemble\n",
    "    results_ens = postprocessing.combine_outputs(results_ens, **OUTPUT_COMBINATION_KWS[model])  # Aggregate model outputs\n",
    "    results_ens = parsing.target_ligand_pair_reduction(results_ens, reduce=REDUCE_MULTIPLE_PDBS)  # Reduce operation across PDB templates for each target\n",
    "    results[model] = results_ens\n",
    "\n",
    "print(f\"Parsing ligand baseline results (refined)...\")\n",
    "model = 'Ligand bsl.'\n",
    "results_tmp, _ = parsing.parse_results_denvis(PATH_RESULTS[model])\n",
    "results_tmp = parsing.process_target_id(results_tmp, DATASET)\n",
    "results_tmp = ensembling.compute_ensemble_scores(results_tmp, version=True, pair_id_cols=PAIR_ID_COLS)\n",
    "results_tmp = postprocessing.combine_outputs(results_tmp, **OUTPUT_COMBINATION_KWS[model])\n",
    "results_tmp = parsing.target_ligand_pair_reduction(results_tmp, reduce=REDUCE_MULTIPLE_PDBS)\n",
    "results[model] = results_tmp\n",
    "\n",
    "print(f\"Parsing DeepDTA results...\")\n",
    "model = 'Deep DTA'\n",
    "results_tmp = parsing.parse_results_deeppurpose(PATH_RESULTS[model])\n",
    "results_tmp = parsing.process_target_id(results_tmp, DATASET)\n",
    "results_tmp = parsing.target_ligand_pair_reduction(results_tmp, reduce=REDUCE_MULTIPLE_PDBS)\n",
    "results[model] = results_tmp\n",
    "\n",
    "print(f\"Parsing GNINA results...\")\n",
    "model = 'GNINA'\n",
    "results[model] = parsing.parse_results_gnina(PATH_RESULTS[model])"
   ]
  },
  {
   "cell_type": "markdown",
   "id": "4f2608f9-ea86-4d00-a993-1420b812d06e",
   "metadata": {},
   "source": [
    "# 3. Benchmark"
   ]
  },
  {
   "cell_type": "markdown",
   "id": "35ebfff3-aea1-4c5f-ba86-1ae75d581a7e",
   "metadata": {},
   "source": [
    "## 3.1 Compute performance scores"
   ]
  },
  {
   "cell_type": "code",
   "execution_count": 4,
   "id": "e22139ee-cc4c-4ad1-b349-b93f36198155",
   "metadata": {},
   "outputs": [],
   "source": [
    "results_tf = pd.DataFrame(columns=['Dataset', 'Model'] + PERFORMANCE_METRICS)  # micro-average DataFrame (tidy-format)\n",
    "results_pt_tf = pd.DataFrame(columns=['Dataset', 'Model', 'Target'] + PERFORMANCE_METRICS)  # Per-targety DataFrame (tidy-format)\n",
    "\n",
    "for model, result in results.items():\n",
    "    # Compute per-target and micro-average scores\n",
    "    auroc_pt, auroc_micro = metrics.compute_auroc_scores(result, avg_fun=AVG_FUN)\n",
    "    ef1_pt, ef1_micro = metrics.compute_ef_scores(result, alpha=EF_ALPHA, avg_fun=AVG_FUN)\n",
    "    bedroc805_pt, bedroc805_micro = metrics.compute_bedroc_scores(result, alpha=BEDROC_ALPHA, avg_fun=AVG_FUN)\n",
    "\n",
    "    # Update micro DataFrame\n",
    "    results_tf = pd.concat((results_tf, pd.DataFrame.from_records({\n",
    "        'Dataset': DATASET,\n",
    "        'Model': model,\n",
    "        'AUROC': auroc_micro,\n",
    "        'EF1': ef1_micro,\n",
    "        'BEDROC80.5': bedroc805_micro}, \n",
    "        index=[len(results_tf)])))\n",
    "\n",
    "    new_df_pt = pd.DataFrame.from_records(\n",
    "        [auroc_pt, ef1_pt, bedroc805_pt],\n",
    "        index=['AUROC', 'EF1', 'BEDROC80.5']).T.reset_index(level=0, inplace=False).rename({'index': 'Target'}, axis=1, inplace=False)\n",
    "    new_df_pt.insert(0, 'Dataset', DATASET)\n",
    "    new_df_pt.insert(1, 'Model', model)\n",
    "    results_pt_tf = pd.concat((results_pt_tf, new_df_pt))"
   ]
  },
  {
   "cell_type": "markdown",
   "id": "407a5930-1ed9-4bfa-93e5-8d8fecc89601",
   "metadata": {},
   "source": [
    "## 3.2 Micro-average score benchmark (Table 5)"
   ]
  },
  {
   "cell_type": "code",
   "execution_count": 5,
   "id": "fc14609a-0295-42f0-9e87-42eb98647f3f",
   "metadata": {},
   "outputs": [
    {
     "data": {
      "text/html": [
       "<div>\n",
       "<style scoped>\n",
       "    .dataframe tbody tr th:only-of-type {\n",
       "        vertical-align: middle;\n",
       "    }\n",
       "\n",
       "    .dataframe tbody tr th {\n",
       "        vertical-align: top;\n",
       "    }\n",
       "\n",
       "    .dataframe thead th {\n",
       "        text-align: right;\n",
       "    }\n",
       "</style>\n",
       "<table border=\"1\" class=\"dataframe\">\n",
       "  <thead>\n",
       "    <tr style=\"text-align: right;\">\n",
       "      <th></th>\n",
       "      <th>AUROC</th>\n",
       "      <th>EF1</th>\n",
       "      <th>BEDROC80.5</th>\n",
       "    </tr>\n",
       "    <tr>\n",
       "      <th>Model</th>\n",
       "      <th></th>\n",
       "      <th></th>\n",
       "      <th></th>\n",
       "    </tr>\n",
       "  </thead>\n",
       "  <tbody>\n",
       "    <tr>\n",
       "      <th>DENVIS-G</th>\n",
       "      <td>0.57</td>\n",
       "      <td>1.38</td>\n",
       "      <td>0.04</td>\n",
       "    </tr>\n",
       "    <tr>\n",
       "      <th>DENVIS-R</th>\n",
       "      <td>0.53</td>\n",
       "      <td>1.21</td>\n",
       "      <td>0.03</td>\n",
       "    </tr>\n",
       "    <tr>\n",
       "      <th>Deep DTA</th>\n",
       "      <td>0.57</td>\n",
       "      <td>1.02</td>\n",
       "      <td>0.02</td>\n",
       "    </tr>\n",
       "    <tr>\n",
       "      <th>GNINA</th>\n",
       "      <td>0.61</td>\n",
       "      <td>1.88</td>\n",
       "      <td>0.03</td>\n",
       "    </tr>\n",
       "    <tr>\n",
       "      <th>Ligand bsl.</th>\n",
       "      <td>0.54</td>\n",
       "      <td>1.04</td>\n",
       "      <td>0.02</td>\n",
       "    </tr>\n",
       "  </tbody>\n",
       "</table>\n",
       "</div>"
      ],
      "text/plain": [
       "             AUROC   EF1  BEDROC80.5\n",
       "Model                               \n",
       "DENVIS-G      0.57  1.38        0.04\n",
       "DENVIS-R      0.53  1.21        0.03\n",
       "Deep DTA      0.57  1.02        0.02\n",
       "GNINA         0.61  1.88        0.03\n",
       "Ligand bsl.   0.54  1.04        0.02"
      ]
     },
     "execution_count": 5,
     "metadata": {},
     "output_type": "execute_result"
    }
   ],
   "source": [
    "print_order = ['DENVIS-G', 'DENVIS-R', 'Deep DTA', 'GNINA', 'Ligand bsl.']\n",
    "cols = ['AUROC', 'EF1', 'BEDROC80.5']\n",
    "print_df = results_tf.set_index('Model').loc[print_order][cols].round(decimals=2)\n",
    "print_df"
   ]
  },
  {
   "cell_type": "markdown",
   "id": "45ac79ce-8f11-45be-aef3-07840c5c1fd8",
   "metadata": {},
   "source": [
    "## 3.3 Per-target benchmark (Figure 5)"
   ]
  },
  {
   "cell_type": "code",
   "execution_count": 6,
   "id": "c7de70fb-b370-4c7f-a693-560f285b4f34",
   "metadata": {},
   "outputs": [
    {
     "data": {
      "image/png": "[encoded data removed]",
      "text/plain": [
       "<Figure size 280x400 with 3 Axes>"
      ]
     },
     "metadata": {},
     "output_type": "display_data"
    }
   ],
   "source": [
    "sns.set_context(\"paper\", font_scale=.8, rc={\"lines.linewidth\": 1.5})\n",
    "hue_order = ['DENVIS-G', 'DENVIS-R', 'Deep DTA', 'GNINA', 'Ligand bsl.']\n",
    "color_palette = sns.color_palette(\"Blues\", 3) + sns.color_palette(\"Greens\", 3)[0:1] + sns.color_palette(\"Greys\", 1)\n",
    "metrics_ = ['AUROC', 'EF1', 'BEDROC80.5']\n",
    "\n",
    "showfliers = False\n",
    "linewidth = 1.2\n",
    "\n",
    "figsize = (2.8,4.)\n",
    "leg_pos = (-0.02, 2.0)\n",
    "\n",
    "label_alias = {\n",
    "    'DENVIS-G': 'DENVIS-G (ours) ',\n",
    "    'DENVIS-R': 'DENVIS-R (ours)',\n",
    "    'GNINA': 'GNINA',\n",
    "    'Vina': 'Vina',\n",
    "    'RF-score': 'RF-score',\n",
    "    'NN-score': 'NN-score',\n",
    "    'Deep DTA': 'DeepDTA',\n",
    "    'Ligand bsl.': 'Ligand bsl.',\n",
    "    'Gold': 'Gold',\n",
    "    'Glide': 'Glide',\n",
    "    'Surflex': 'Surflex',\n",
    "    'Flexx': 'FlexX'\n",
    "}\n",
    "\n",
    "fig, ax = plt.subplots(figsize=figsize, nrows=3, ncols=1)\n",
    "for i, metric in enumerate(metrics_):\n",
    "    sns.boxplot(\n",
    "        data=results_pt_tf,\n",
    "        x='Dataset',\n",
    "        order=[DATASET],\n",
    "        hue='Model',\n",
    "        y=metric,\n",
    "        hue_order=hue_order,\n",
    "        palette=color_palette,\n",
    "        showfliers=showfliers,\n",
    "        linewidth=linewidth,\n",
    "        ax=ax[i])\n",
    "\n",
    "\n",
    "# Legend options\n",
    "handles, labels = ax[0].get_legend_handles_labels()\n",
    "ax[0].legend(handles=handles, labels=[label_alias[l] for l in labels], bbox_to_anchor=leg_pos, loc='upper left', ncol=2)\n",
    "\n",
    "for ax_ in ax:\n",
    "    ax_.set_xticklabels([])\n",
    "    ax_.set_xlabel('')\n",
    "\n",
    "for ax_ in ax[1:]:\n",
    "    ax_.legend().remove()\n",
    "\n",
    "ax[1].set_ylabel(r'EF$_{1}$')\n",
    "ax[2].set_ylabel(r'BEDROC$_{80.5}$')\n",
    "plt.show()"
   ]
  },
  {
   "cell_type": "markdown",
   "id": "abf36e9e-cbd1-4018-a8c2-1f498b5868c1",
   "metadata": {},
   "source": [
    "## 3.4 One-to-one comparisons (Figure 6)\n",
    "* DENVIS-R vs. GNINA\n",
    "* DENVIS-G vs. GNINA"
   ]
  },
  {
   "cell_type": "code",
   "execution_count": 7,
   "id": "24ba9f49-9a8f-4985-a912-5211abac14cc",
   "metadata": {},
   "outputs": [
    {
     "data": {
      "image/png": "[encoded data removed]",
      "text/plain": [
       "<Figure size 550x400 with 6 Axes>"
      ]
     },
     "metadata": {},
     "output_type": "display_data"
    }
   ],
   "source": [
    "sns.set_context(\"paper\", font_scale=.8, rc={\"lines.linewidth\": 1.5})\n",
    "figsize = (5.5,4.)\n",
    "size = 15\n",
    "\n",
    "aspect_ratio = 0.7\n",
    "aspect_ratio = 1.0\n",
    "\n",
    "# Colors are defined in the cell above, we just index them here\n",
    "denvis_g_col = color_palette[0]\n",
    "denvis_r_col = color_palette[1]\n",
    "gnina_col = color_palette[2]\n",
    "col_1, col_2 = sns.color_palette('Paired')[8:10]\n",
    "col_1, col_2 = sns.color_palette(n_colors=4)[0], sns.color_palette(n_colors=4)[3]\n",
    "\n",
    "\n",
    "fig, ax = plt.subplots(figsize=figsize, nrows=2, ncols=3)\n",
    "comparisons = [\n",
    "    ('DENVIS-R', 'GNINA'),\n",
    "    ('DENVIS-G', 'GNINA')]\n",
    "\n",
    "for row_id, comparison in enumerate(comparisons):\n",
    "    for col_id, metric in enumerate(PERFORMANCE_METRICS):\n",
    "        our_scores = results_pt_tf[(results_pt_tf['Model']==comparison[0])][metric].values\n",
    "        other_scores = results_pt_tf[(results_pt_tf['Model']==comparison[1])][metric].values\n",
    "        \n",
    "        sns.scatterplot(\n",
    "            x=other_scores[other_scores > our_scores],\n",
    "            y=our_scores[other_scores > our_scores],\n",
    "            color=col_1,\n",
    "            s=size,\n",
    "            ax=ax[row_id, col_id])\n",
    "        sns.scatterplot(\n",
    "            x=other_scores[other_scores < our_scores],\n",
    "            y=our_scores[other_scores < our_scores],\n",
    "            color=col_2,\n",
    "            s=size,\n",
    "            ax=ax[row_id, col_id])\n",
    "        plotting_utils.plot_diagonal_line(ax[row_id, col_id])\n",
    "        ax[row_id, col_id].set_ylabel(comparison[0])\n",
    "        ax[row_id, col_id].set_xlabel(comparison[1])\n",
    "        ax[row_id, col_id].set_title(metric)\n",
    "\n",
    "# Tidy-up\n",
    "for ax_ in ax.reshape(-1,):\n",
    "    ax_.set_xticks(ax_.get_yticks()[1:-1])\n",
    "    ax_.set_yticks(ax_.get_yticks()[1:-1])\n",
    "          \n",
    "fig.text(0, 1.0, '(a)')\n",
    "fig.text(0, 0.5, '(b)')\n",
    "fig.tight_layout()\n",
    "plt.show()"
   ]
  },
  {
   "cell_type": "markdown",
   "id": "d8cd9f83-688a-462b-a1d2-6da41c1999fc",
   "metadata": {},
   "source": [
    "## 3.5 Number of targets that one model is better than the other"
   ]
  },
  {
   "cell_type": "code",
   "execution_count": 8,
   "id": "7eea8c05-6101-486f-87b3-598b3e213fff",
   "metadata": {},
   "outputs": [
    {
     "name": "stdout",
     "output_type": "stream",
     "text": [
      "Models: DENVIS-R vs. GNINA\n",
      "----------------------------------------------\n",
      "AUROC: DENVIS-R > GNINA: 4\n",
      "AUROC: GNINA > DENVIS-R: 11\n",
      "EF1: DENVIS-R > GNINA: 6\n",
      "EF1: GNINA > DENVIS-R: 8\n",
      "BEDROC80.5: DENVIS-R > GNINA: 6\n",
      "BEDROC80.5: GNINA > DENVIS-R: 9\n",
      "----------------------------------------------\n",
      "Models: DENVIS-G vs. GNINA\n",
      "----------------------------------------------\n",
      "AUROC: DENVIS-G > GNINA: 6\n",
      "AUROC: GNINA > DENVIS-G: 9\n",
      "EF1: DENVIS-G > GNINA: 8\n",
      "EF1: GNINA > DENVIS-G: 7\n",
      "BEDROC80.5: DENVIS-G > GNINA: 7\n",
      "BEDROC80.5: GNINA > DENVIS-G: 8\n",
      "----------------------------------------------\n"
     ]
    }
   ],
   "source": [
    "targets = results_pt_tf['Target'].unique()\n",
    "for (model_x, model_y) in [('DENVIS-R', 'GNINA'), ('DENVIS-G', 'GNINA')]:\n",
    "    print(f\"Models: {model_x} vs. {model_y}\")\n",
    "    print(\"----------------------------------------------\")\n",
    "    for metric in ['AUROC', 'EF1', 'BEDROC80.5']:\n",
    "        x = results_pt_tf[results_pt_tf['Model']==model_x].set_index('Target').reindex(targets)[metric]\n",
    "        y = results_pt_tf[results_pt_tf['Model']==model_y].set_index('Target').reindex(targets)[metric]\n",
    "        print(f\"{metric}: {model_x} > {model_y}: {(x > y).sum()}\")\n",
    "        print(f\"{metric}: {model_y} > {model_x}: {(y > x).sum()}\")\n",
    "    print(\"----------------------------------------------\")"
   ]
  },
  {
   "cell_type": "markdown",
   "id": "d4543fd2-bef5-4a62-9aaf-602a6b2b6d75",
   "metadata": {},
   "source": [
    "## 3.6 Table per-target comparisons (Tables S4, S5, S6)"
   ]
  },
  {
   "cell_type": "code",
   "execution_count": 9,
   "id": "c2b7a6bd-b861-4e09-b322-3243bb44bf86",
   "metadata": {},
   "outputs": [
    {
     "name": "stdout",
     "output_type": "stream",
     "text": [
      "AUROC\n",
      "--------------------------------------\n",
      "          D-G  D-R  GNINA  DDTA  Bsl.\n",
      "ADRB2    0.60 0.51   0.52  0.37  0.45\n",
      "ALDH1    0.54 0.52   0.60  0.58  0.55\n",
      "ESR1_ago 0.66 0.62   0.71  0.66  0.61\n",
      "ESR1_ant 0.52 0.57   0.72  0.63  0.57\n",
      "FEN1     0.58 0.51   0.55  0.49  0.54\n",
      "GBA      0.46 0.40   0.71  0.55  0.51\n",
      "IDH1     0.46 0.60   0.69  0.70  0.54\n",
      "KAT2A    0.39 0.47   0.41  0.48  0.49\n",
      "MAPK1    0.61 0.64   0.62  0.58  0.51\n",
      "MTORC1   0.57 0.61   0.49  0.47  0.50\n",
      "OPRK1    0.82 0.70   0.80  0.69  0.76\n",
      "PKM2     0.49 0.53   0.61  0.57  0.51\n",
      "PPARG    0.76 0.74   0.76  0.68  0.59\n",
      "TP53     0.52 0.52   0.56  0.57  0.58\n",
      "VDR      0.57 0.52   0.39  0.42  0.44\n",
      "\n",
      "\n",
      "EF1\n",
      "--------------------------------------\n",
      "           D-G  D-R  GNINA  DDTA  Bsl.\n",
      "ADRB2    25.00 0.00   0.00  0.00  0.00\n",
      "ALDH1     1.38 1.20   1.88  1.42  0.93\n",
      "ESR1_ago  8.33 8.33  15.38  0.00  0.00\n",
      "ESR1_ant  0.99 0.00   5.88  0.00  0.00\n",
      "FEN1      3.26 3.53   1.90  0.27  3.26\n",
      "GBA       3.03 1.21   9.04  4.22  1.82\n",
      "IDH1      0.00 5.26  12.82  5.13  2.63\n",
      "KAT2A     0.52 1.55   1.55  1.03  1.04\n",
      "MAPK1     3.58 2.28   1.62  0.65  0.65\n",
      "MTORC1    1.04 1.04   1.03  1.03  1.04\n",
      "OPRK1     0.00 4.35   8.33  4.17  4.35\n",
      "PKM2      0.55 0.55   0.55  0.55  1.47\n",
      "PPARG    11.54 0.00   7.41  0.00  0.00\n",
      "TP53      1.28 0.00   1.27  2.53  3.85\n",
      "VDR       4.42 2.83   0.79  1.02  0.79\n",
      "\n",
      "\n",
      "BEDROC80.5\n",
      "--------------------------------------\n",
      "          D-G  D-R  GNINA  DDTA  Bsl.\n",
      "ADRB2    0.19 0.03   0.01  0.00  0.02\n",
      "ALDH1    0.07 0.06   0.09  0.08  0.05\n",
      "ESR1_ago 0.10 0.07   0.12  0.02  0.01\n",
      "ESR1_ant 0.04 0.01   0.12  0.04  0.00\n",
      "FEN1     0.04 0.04   0.02  0.01  0.04\n",
      "GBA      0.03 0.02   0.10  0.03  0.02\n",
      "IDH1     0.01 0.04   0.12  0.06  0.04\n",
      "KAT2A    0.01 0.02   0.02  0.02  0.01\n",
      "MAPK1    0.05 0.03   0.02  0.02  0.01\n",
      "MTORC1   0.01 0.01   0.01  0.01  0.02\n",
      "OPRK1    0.01 0.03   0.07  0.03  0.03\n",
      "PKM2     0.01 0.01   0.01  0.01  0.02\n",
      "PPARG    0.15 0.00   0.06  0.00  0.00\n",
      "TP53     0.04 0.02   0.03  0.04  0.08\n",
      "VDR      0.05 0.03   0.01  0.01  0.01\n",
      "\n",
      "\n"
     ]
    }
   ],
   "source": [
    "pd.options.display.float_format = '{:,.2f}'.format\n",
    "pd.options.display.max_rows = 120\n",
    "pd.set_option('display.expand_frame_repr', False) \n",
    "\n",
    "perf_metrics = ['AUROC', 'EF1', 'BEDROC80.5']\n",
    "columns_order = ['DENVIS-G', 'DENVIS-R', 'GNINA', 'Deep DTA', 'Ligand bsl.']\n",
    "columns_alias = {\n",
    "    'DENVIS-G': 'D-G',\n",
    "    'DENVIS-R': 'D-R',\n",
    "    'GNINA': 'GNINA',\n",
    "    'Deep DTA': 'DDTA',\n",
    "    'Ligand bsl.': 'Bsl.'}\n",
    "\n",
    "for metric in perf_metrics:\n",
    "    print_df = pd.pivot(results_pt_tf, index='Target', columns='Model', values=metric)\n",
    "    print_df.columns.name, print_df.index.name = None, None\n",
    "    print_df = print_df[columns_order].rename(columns=columns_alias)\n",
    "    print(metric)\n",
    "    print('--------------------------------------')\n",
    "    print(print_df)\n",
    "    print('\\n')"
   ]
  }
 ],
 "metadata": {
  "kernelspec": {
   "display_name": "Python 3 (ipykernel)",
   "language": "python",
   "name": "python3"
  },
  "language_info": {
   "codemirror_mode": {
    "name": "ipython",
    "version": 3
   },
   "file_extension": ".py",
   "mimetype": "text/x-python",
   "name": "python",
   "nbconvert_exporter": "python",
   "pygments_lexer": "ipython3",
   "version": "3.7.12"
  }
 },
 "nbformat": 4,
 "nbformat_minor": 5
}
