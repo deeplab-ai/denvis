{
 "cells": [
  {
   "cell_type": "markdown",
   "id": "3d29547a",
   "metadata": {},
   "source": [
    "## Introduction"
   ]
  },
  {
   "cell_type": "markdown",
   "id": "a5b8b612",
   "metadata": {},
   "source": [
    "This notebook parses an output produced by the DENVIS web-service and compares the outputs with the results from the denvis paper.\n",
    "\n",
    "It assumes that the denvis inference results have already been downloaded using the `download_extract_data.sh` script\n",
    "\n",
    "Additionally, before making a request to the webservice the `drop_sdf_duplicates.py` script should be run on the sdf file containing the ligand library to be screened."
   ]
  },
  {
   "cell_type": "markdown",
   "id": "6a5da255",
   "metadata": {},
   "source": [
    "### Imports"
   ]
  },
  {
   "cell_type": "code",
   "execution_count": 1,
   "id": "c912cc49",
   "metadata": {},
   "outputs": [],
   "source": [
    "import pandas as pd\n",
    "import os\n",
    "import matplotlib.pyplot as plt"
   ]
  },
  {
   "cell_type": "markdown",
   "id": "6d556ed7",
   "metadata": {},
   "source": [
    "### Configuration"
   ]
  },
  {
   "cell_type": "code",
   "execution_count": 2,
   "id": "0fa7dda2",
   "metadata": {},
   "outputs": [],
   "source": [
    "model_selection = 'refined' # 'refined' or 'general'\n",
    "\n",
    "OUTPUT_TYPES = {\n",
    "    \"refined\": [\"y_score_Kd\", \"y_score_Ki\"],\n",
    "    \"general\": [\"y_score_Kd\", \"y_score_Ki\", \"y_score_IC50\"]\n",
    "}\n",
    "\n",
    "denvis_data_path = '../data/outputs/denvis_outputs' \n",
    "\n",
    "target_id = 'aa2ar'\n",
    "output_type = OUTPUT_TYPES[model_selection]"
   ]
  },
  {
   "cell_type": "markdown",
   "id": "085530d8",
   "metadata": {},
   "source": [
    "### Specify App output path"
   ]
  },
  {
   "cell_type": "code",
   "execution_count": 3,
   "id": "cb6fa323",
   "metadata": {},
   "outputs": [],
   "source": [
    "output_path = \"../webservice_data/aa2ar_denvis_webservice.json\" # change it to the path of the webservice output"
   ]
  },
  {
   "cell_type": "markdown",
   "id": "9b0a1fba",
   "metadata": {},
   "source": [
    "### Parse Webservice Output"
   ]
  },
  {
   "cell_type": "code",
   "execution_count": 4,
   "id": "e2fe8cc4",
   "metadata": {},
   "outputs": [],
   "source": [
    "raw_output_df = pd.read_json(output_path)"
   ]
  },
  {
   "cell_type": "code",
   "execution_count": 5,
   "id": "efa1a6b4",
   "metadata": {},
   "outputs": [],
   "source": [
    "# keep = 'last' is important because that is how we dealt with duplicate ligands in our processing of DUD-E data\n",
    "# some ligands are represented more than once in the DUD-E sdf files\n",
    "output_df = raw_output_df.drop_duplicates(subset=['modality','version','ligand_id'], keep='last').reset_index(drop=True)"
   ]
  },
  {
   "cell_type": "markdown",
   "id": "04073bab",
   "metadata": {},
   "source": [
    "We store the ligand ids to query the denvis inference results"
   ]
  },
  {
   "cell_type": "code",
   "execution_count": 6,
   "id": "cfd0d274",
   "metadata": {},
   "outputs": [],
   "source": [
    "ligand_ids = output_df.ligand_id.unique()"
   ]
  },
  {
   "cell_type": "markdown",
   "id": "c0d7f35f",
   "metadata": {},
   "source": [
    "### Load DENVIS results"
   ]
  },
  {
   "cell_type": "code",
   "execution_count": 7,
   "id": "3a939e4e",
   "metadata": {},
   "outputs": [],
   "source": [
    "if model_selection == \"refined\":\n",
    "    denvis_atom = pd.read_parquet(os.path.join(denvis_data_path, 'dude_main_refined_atom.parquet') )\n",
    "    denvis_surface = pd.read_parquet(os.path.join(denvis_data_path, 'dude_main_refined_surface.parquet') )\n",
    "elif model_seltcion == \"general\": \n",
    "    denvis_atom = pd.read_parquet(os.path.join(denvis_data_path, 'dude_main_general_atom.parquet') )\n",
    "    denvis_surface = pd.read_parquet(os.path.join(denvis_data_path, 'dude_main_general_surface.parquet') )"
   ]
  },
  {
   "cell_type": "markdown",
   "id": "3d5aedc0",
   "metadata": {},
   "source": [
    "### Compare differences"
   ]
  },
  {
   "cell_type": "markdown",
   "id": "1966f287",
   "metadata": {},
   "source": [
    "Results should look the same apart from tiny differences due to rounding errors etc."
   ]
  },
  {
   "cell_type": "code",
   "execution_count": 8,
   "id": "b919d8d8",
   "metadata": {},
   "outputs": [
    {
     "data": {
      "text/html": [
       "<div>\n",
       "<style scoped>\n",
       "    .dataframe tbody tr th:only-of-type {\n",
       "        vertical-align: middle;\n",
       "    }\n",
       "\n",
       "    .dataframe tbody tr th {\n",
       "        vertical-align: top;\n",
       "    }\n",
       "\n",
       "    .dataframe thead th {\n",
       "        text-align: right;\n",
       "    }\n",
       "</style>\n",
       "<table border=\"1\" class=\"dataframe\">\n",
       "  <thead>\n",
       "    <tr style=\"text-align: right;\">\n",
       "      <th></th>\n",
       "      <th>target_id</th>\n",
       "      <th>ligand_id</th>\n",
       "      <th>version</th>\n",
       "      <th>ckpt</th>\n",
       "      <th>y_true</th>\n",
       "      <th>y_score_Kd</th>\n",
       "      <th>y_score_Ki</th>\n",
       "    </tr>\n",
       "  </thead>\n",
       "  <tbody>\n",
       "    <tr>\n",
       "      <th>162614</th>\n",
       "      <td>aa2ar</td>\n",
       "      <td>CHEMBL100382</td>\n",
       "      <td>0</td>\n",
       "      <td>0</td>\n",
       "      <td>1.0</td>\n",
       "      <td>2.725062</td>\n",
       "      <td>-2.583702</td>\n",
       "    </tr>\n",
       "    <tr>\n",
       "      <th>1578481</th>\n",
       "      <td>aa2ar</td>\n",
       "      <td>CHEMBL100382</td>\n",
       "      <td>1</td>\n",
       "      <td>0</td>\n",
       "      <td>1.0</td>\n",
       "      <td>6.586952</td>\n",
       "      <td>-2.676831</td>\n",
       "    </tr>\n",
       "    <tr>\n",
       "      <th>2994348</th>\n",
       "      <td>aa2ar</td>\n",
       "      <td>CHEMBL100382</td>\n",
       "      <td>2</td>\n",
       "      <td>0</td>\n",
       "      <td>1.0</td>\n",
       "      <td>4.622222</td>\n",
       "      <td>-1.560669</td>\n",
       "    </tr>\n",
       "    <tr>\n",
       "      <th>4410215</th>\n",
       "      <td>aa2ar</td>\n",
       "      <td>CHEMBL100382</td>\n",
       "      <td>3</td>\n",
       "      <td>0</td>\n",
       "      <td>1.0</td>\n",
       "      <td>3.490108</td>\n",
       "      <td>-4.556562</td>\n",
       "    </tr>\n",
       "    <tr>\n",
       "      <th>5826082</th>\n",
       "      <td>aa2ar</td>\n",
       "      <td>CHEMBL100382</td>\n",
       "      <td>4</td>\n",
       "      <td>0</td>\n",
       "      <td>1.0</td>\n",
       "      <td>2.344347</td>\n",
       "      <td>-2.827861</td>\n",
       "    </tr>\n",
       "    <tr>\n",
       "      <th>...</th>\n",
       "      <td>...</td>\n",
       "      <td>...</td>\n",
       "      <td>...</td>\n",
       "      <td>...</td>\n",
       "      <td>...</td>\n",
       "      <td>...</td>\n",
       "      <td>...</td>\n",
       "    </tr>\n",
       "    <tr>\n",
       "      <th>162669</th>\n",
       "      <td>aa2ar</td>\n",
       "      <td>CHEMBL95101</td>\n",
       "      <td>0</td>\n",
       "      <td>0</td>\n",
       "      <td>1.0</td>\n",
       "      <td>1.748837</td>\n",
       "      <td>0.855794</td>\n",
       "    </tr>\n",
       "    <tr>\n",
       "      <th>1578536</th>\n",
       "      <td>aa2ar</td>\n",
       "      <td>CHEMBL95101</td>\n",
       "      <td>1</td>\n",
       "      <td>0</td>\n",
       "      <td>1.0</td>\n",
       "      <td>1.122028</td>\n",
       "      <td>-1.689827</td>\n",
       "    </tr>\n",
       "    <tr>\n",
       "      <th>2994403</th>\n",
       "      <td>aa2ar</td>\n",
       "      <td>CHEMBL95101</td>\n",
       "      <td>2</td>\n",
       "      <td>0</td>\n",
       "      <td>1.0</td>\n",
       "      <td>5.853607</td>\n",
       "      <td>1.411649</td>\n",
       "    </tr>\n",
       "    <tr>\n",
       "      <th>4410270</th>\n",
       "      <td>aa2ar</td>\n",
       "      <td>CHEMBL95101</td>\n",
       "      <td>3</td>\n",
       "      <td>0</td>\n",
       "      <td>1.0</td>\n",
       "      <td>1.779458</td>\n",
       "      <td>-0.033722</td>\n",
       "    </tr>\n",
       "    <tr>\n",
       "      <th>5826137</th>\n",
       "      <td>aa2ar</td>\n",
       "      <td>CHEMBL95101</td>\n",
       "      <td>4</td>\n",
       "      <td>0</td>\n",
       "      <td>1.0</td>\n",
       "      <td>2.734499</td>\n",
       "      <td>-0.783813</td>\n",
       "    </tr>\n",
       "  </tbody>\n",
       "</table>\n",
       "<p>500 rows × 7 columns</p>\n",
       "</div>"
      ],
      "text/plain": [
       "        target_id     ligand_id  version  ckpt  y_true  y_score_Kd  y_score_Ki\n",
       "162614      aa2ar  CHEMBL100382        0     0     1.0    2.725062   -2.583702\n",
       "1578481     aa2ar  CHEMBL100382        1     0     1.0    6.586952   -2.676831\n",
       "2994348     aa2ar  CHEMBL100382        2     0     1.0    4.622222   -1.560669\n",
       "4410215     aa2ar  CHEMBL100382        3     0     1.0    3.490108   -4.556562\n",
       "5826082     aa2ar  CHEMBL100382        4     0     1.0    2.344347   -2.827861\n",
       "...           ...           ...      ...   ...     ...         ...         ...\n",
       "162669      aa2ar   CHEMBL95101        0     0     1.0    1.748837    0.855794\n",
       "1578536     aa2ar   CHEMBL95101        1     0     1.0    1.122028   -1.689827\n",
       "2994403     aa2ar   CHEMBL95101        2     0     1.0    5.853607    1.411649\n",
       "4410270     aa2ar   CHEMBL95101        3     0     1.0    1.779458   -0.033722\n",
       "5826137     aa2ar   CHEMBL95101        4     0     1.0    2.734499   -0.783813\n",
       "\n",
       "[500 rows x 7 columns]"
      ]
     },
     "execution_count": 8,
     "metadata": {},
     "output_type": "execute_result"
    }
   ],
   "source": [
    "denvis_atom[denvis_atom['ligand_id'].isin(ligand_ids) & (denvis_atom['target_id'] == target_id)].sort_values(by=['ligand_id', 'version'])"
   ]
  },
  {
   "cell_type": "code",
   "execution_count": 9,
   "id": "39c72f55",
   "metadata": {},
   "outputs": [
    {
     "data": {
      "text/html": [
       "<div>\n",
       "<style scoped>\n",
       "    .dataframe tbody tr th:only-of-type {\n",
       "        vertical-align: middle;\n",
       "    }\n",
       "\n",
       "    .dataframe tbody tr th {\n",
       "        vertical-align: top;\n",
       "    }\n",
       "\n",
       "    .dataframe thead th {\n",
       "        text-align: right;\n",
       "    }\n",
       "</style>\n",
       "<table border=\"1\" class=\"dataframe\">\n",
       "  <thead>\n",
       "    <tr style=\"text-align: right;\">\n",
       "      <th></th>\n",
       "      <th>y_score_Kd</th>\n",
       "      <th>y_score_Ki</th>\n",
       "      <th>modality</th>\n",
       "      <th>version</th>\n",
       "      <th>ligand_id</th>\n",
       "    </tr>\n",
       "  </thead>\n",
       "  <tbody>\n",
       "    <tr>\n",
       "      <th>33</th>\n",
       "      <td>2.725063</td>\n",
       "      <td>-2.583697</td>\n",
       "      <td>atom</td>\n",
       "      <td>version_0</td>\n",
       "      <td>CHEMBL100382</td>\n",
       "    </tr>\n",
       "    <tr>\n",
       "      <th>133</th>\n",
       "      <td>6.586952</td>\n",
       "      <td>-2.676835</td>\n",
       "      <td>atom</td>\n",
       "      <td>version_1</td>\n",
       "      <td>CHEMBL100382</td>\n",
       "    </tr>\n",
       "    <tr>\n",
       "      <th>233</th>\n",
       "      <td>4.622224</td>\n",
       "      <td>-1.560671</td>\n",
       "      <td>atom</td>\n",
       "      <td>version_2</td>\n",
       "      <td>CHEMBL100382</td>\n",
       "    </tr>\n",
       "    <tr>\n",
       "      <th>333</th>\n",
       "      <td>3.490108</td>\n",
       "      <td>-4.556561</td>\n",
       "      <td>atom</td>\n",
       "      <td>version_3</td>\n",
       "      <td>CHEMBL100382</td>\n",
       "    </tr>\n",
       "    <tr>\n",
       "      <th>433</th>\n",
       "      <td>2.344349</td>\n",
       "      <td>-2.827861</td>\n",
       "      <td>atom</td>\n",
       "      <td>version_4</td>\n",
       "      <td>CHEMBL100382</td>\n",
       "    </tr>\n",
       "    <tr>\n",
       "      <th>...</th>\n",
       "      <td>...</td>\n",
       "      <td>...</td>\n",
       "      <td>...</td>\n",
       "      <td>...</td>\n",
       "      <td>...</td>\n",
       "    </tr>\n",
       "    <tr>\n",
       "      <th>88</th>\n",
       "      <td>1.748838</td>\n",
       "      <td>0.855794</td>\n",
       "      <td>atom</td>\n",
       "      <td>version_0</td>\n",
       "      <td>CHEMBL95101</td>\n",
       "    </tr>\n",
       "    <tr>\n",
       "      <th>188</th>\n",
       "      <td>1.122028</td>\n",
       "      <td>-1.689828</td>\n",
       "      <td>atom</td>\n",
       "      <td>version_1</td>\n",
       "      <td>CHEMBL95101</td>\n",
       "    </tr>\n",
       "    <tr>\n",
       "      <th>288</th>\n",
       "      <td>5.853605</td>\n",
       "      <td>1.411651</td>\n",
       "      <td>atom</td>\n",
       "      <td>version_2</td>\n",
       "      <td>CHEMBL95101</td>\n",
       "    </tr>\n",
       "    <tr>\n",
       "      <th>388</th>\n",
       "      <td>1.779458</td>\n",
       "      <td>-0.033722</td>\n",
       "      <td>atom</td>\n",
       "      <td>version_3</td>\n",
       "      <td>CHEMBL95101</td>\n",
       "    </tr>\n",
       "    <tr>\n",
       "      <th>488</th>\n",
       "      <td>2.734500</td>\n",
       "      <td>-0.783809</td>\n",
       "      <td>atom</td>\n",
       "      <td>version_4</td>\n",
       "      <td>CHEMBL95101</td>\n",
       "    </tr>\n",
       "  </tbody>\n",
       "</table>\n",
       "<p>500 rows × 5 columns</p>\n",
       "</div>"
      ],
      "text/plain": [
       "     y_score_Kd  y_score_Ki modality    version     ligand_id\n",
       "33     2.725063   -2.583697     atom  version_0  CHEMBL100382\n",
       "133    6.586952   -2.676835     atom  version_1  CHEMBL100382\n",
       "233    4.622224   -1.560671     atom  version_2  CHEMBL100382\n",
       "333    3.490108   -4.556561     atom  version_3  CHEMBL100382\n",
       "433    2.344349   -2.827861     atom  version_4  CHEMBL100382\n",
       "..          ...         ...      ...        ...           ...\n",
       "88     1.748838    0.855794     atom  version_0   CHEMBL95101\n",
       "188    1.122028   -1.689828     atom  version_1   CHEMBL95101\n",
       "288    5.853605    1.411651     atom  version_2   CHEMBL95101\n",
       "388    1.779458   -0.033722     atom  version_3   CHEMBL95101\n",
       "488    2.734500   -0.783809     atom  version_4   CHEMBL95101\n",
       "\n",
       "[500 rows x 5 columns]"
      ]
     },
     "execution_count": 9,
     "metadata": {},
     "output_type": "execute_result"
    }
   ],
   "source": [
    "output_df.query('modality == \"atom\"').sort_values(by=['ligand_id', 'version'])"
   ]
  },
  {
   "cell_type": "markdown",
   "id": "8195e9c8",
   "metadata": {},
   "source": [
    "Indeed if we take the pairwise differences between the inference results provided in the repo and the output of the we should get differences in the order of $10^{-6}$"
   ]
  },
  {
   "cell_type": "code",
   "execution_count": 10,
   "id": "0d653058",
   "metadata": {},
   "outputs": [
    {
     "data": {
      "text/plain": [
       "Text(0, 0.5, 'Count')"
      ]
     },
     "execution_count": 10,
     "metadata": {},
     "output_type": "execute_result"
    },
    {
     "data": {
      "image/png": "[encoded data removed]",
      "text/plain": [
       "<Figure size 432x288 with 1 Axes>"
      ]
     },
     "metadata": {
      "needs_background": "light"
     },
     "output_type": "display_data"
    }
   ],
   "source": [
    "ki_denvis = denvis_atom[(denvis_atom['ligand_id'].isin(ligand_ids)) & (denvis_atom['target_id'] == target_id)].sort_values(by=['ligand_id', 'version']).reset_index()[\"y_score_Ki\"]\n",
    "ki_webservice = output_df.query('modality == \"atom\"').sort_values(by=['ligand_id', 'version']).reset_index()[\"y_score_Ki\"]\n",
    "(ki_denvis - ki_webservice).hist(bins=50)\n",
    "plt.title('Atom level Ki differences between inference results and app output')\n",
    "plt.xlabel('Difference in Score')\n",
    "plt.ylabel('Count')"
   ]
  },
  {
   "cell_type": "code",
   "execution_count": 11,
   "id": "78901780",
   "metadata": {},
   "outputs": [
    {
     "data": {
      "text/plain": [
       "Text(0, 0.5, 'Count')"
      ]
     },
     "execution_count": 11,
     "metadata": {},
     "output_type": "execute_result"
    },
    {
     "data": {
      "image/png": "[encoded data removed]",
      "text/plain": [
       "<Figure size 432x288 with 1 Axes>"
      ]
     },
     "metadata": {
      "needs_background": "light"
     },
     "output_type": "display_data"
    }
   ],
   "source": [
    "ki_denvis = denvis_surface[(denvis_surface['ligand_id'].isin(ligand_ids)) & (denvis_surface['target_id'] == target_id)].sort_values(by=['ligand_id', 'version']).reset_index()[\"y_score_Ki\"]\n",
    "ki_webservice = output_df.query('modality == \"surface\"').sort_values(by=['ligand_id', 'version']).reset_index()[\"y_score_Ki\"]\n",
    "(ki_denvis - ki_webservice).hist(bins=50)\n",
    "plt.title('Surface level Ki differences between inference results and app output')\n",
    "plt.xlabel('Difference in Score')\n",
    "plt.ylabel('Count')"
   ]
  },
  {
   "cell_type": "markdown",
   "id": "3d96a0f9",
   "metadata": {},
   "source": [
    "##### We can also calculate the ensemble score by averaging over versions, modalities and output types"
   ]
  },
  {
   "cell_type": "code",
   "execution_count": 12,
   "id": "85f026f3",
   "metadata": {},
   "outputs": [],
   "source": [
    "averaged_df = output_df.groupby(['ligand_id'])[['y_score_Kd','y_score_Ki']].mean().reset_index(drop=False)\n",
    "averaged_df['y_score'] = averaged_df[output_type].sum(axis=1) / len(output_type)"
   ]
  },
  {
   "cell_type": "code",
   "execution_count": 13,
   "id": "3bc4d626",
   "metadata": {},
   "outputs": [
    {
     "data": {
      "text/html": [
       "<div>\n",
       "<style scoped>\n",
       "    .dataframe tbody tr th:only-of-type {\n",
       "        vertical-align: middle;\n",
       "    }\n",
       "\n",
       "    .dataframe tbody tr th {\n",
       "        vertical-align: top;\n",
       "    }\n",
       "\n",
       "    .dataframe thead th {\n",
       "        text-align: right;\n",
       "    }\n",
       "</style>\n",
       "<table border=\"1\" class=\"dataframe\">\n",
       "  <thead>\n",
       "    <tr style=\"text-align: right;\">\n",
       "      <th></th>\n",
       "      <th>ligand_id</th>\n",
       "      <th>y_score_Kd</th>\n",
       "      <th>y_score_Ki</th>\n",
       "      <th>score</th>\n",
       "    </tr>\n",
       "  </thead>\n",
       "  <tbody>\n",
       "    <tr>\n",
       "      <th>0</th>\n",
       "      <td>CHEMBL100382</td>\n",
       "      <td>1.904883</td>\n",
       "      <td>0.692365</td>\n",
       "      <td>1.298624</td>\n",
       "    </tr>\n",
       "    <tr>\n",
       "      <th>1</th>\n",
       "      <td>CHEMBL1087462</td>\n",
       "      <td>1.615053</td>\n",
       "      <td>1.424461</td>\n",
       "      <td>1.519757</td>\n",
       "    </tr>\n",
       "    <tr>\n",
       "      <th>2</th>\n",
       "      <td>CHEMBL1087727</td>\n",
       "      <td>0.448480</td>\n",
       "      <td>1.279040</td>\n",
       "      <td>0.863760</td>\n",
       "    </tr>\n",
       "    <tr>\n",
       "      <th>3</th>\n",
       "      <td>CHEMBL1087820</td>\n",
       "      <td>1.374507</td>\n",
       "      <td>1.638831</td>\n",
       "      <td>1.506669</td>\n",
       "    </tr>\n",
       "    <tr>\n",
       "      <th>4</th>\n",
       "      <td>CHEMBL1088247</td>\n",
       "      <td>1.234403</td>\n",
       "      <td>1.427052</td>\n",
       "      <td>1.330727</td>\n",
       "    </tr>\n",
       "    <tr>\n",
       "      <th>...</th>\n",
       "      <td>...</td>\n",
       "      <td>...</td>\n",
       "      <td>...</td>\n",
       "      <td>...</td>\n",
       "    </tr>\n",
       "    <tr>\n",
       "      <th>95</th>\n",
       "      <td>CHEMBL77279</td>\n",
       "      <td>1.939756</td>\n",
       "      <td>1.800613</td>\n",
       "      <td>1.870185</td>\n",
       "    </tr>\n",
       "    <tr>\n",
       "      <th>96</th>\n",
       "      <td>CHEMBL81616</td>\n",
       "      <td>1.657878</td>\n",
       "      <td>1.365310</td>\n",
       "      <td>1.511594</td>\n",
       "    </tr>\n",
       "    <tr>\n",
       "      <th>97</th>\n",
       "      <td>CHEMBL85864</td>\n",
       "      <td>0.731613</td>\n",
       "      <td>1.624214</td>\n",
       "      <td>1.177913</td>\n",
       "    </tr>\n",
       "    <tr>\n",
       "      <th>98</th>\n",
       "      <td>CHEMBL87981</td>\n",
       "      <td>0.970803</td>\n",
       "      <td>1.689404</td>\n",
       "      <td>1.330103</td>\n",
       "    </tr>\n",
       "    <tr>\n",
       "      <th>99</th>\n",
       "      <td>CHEMBL95101</td>\n",
       "      <td>2.635237</td>\n",
       "      <td>2.858854</td>\n",
       "      <td>2.747045</td>\n",
       "    </tr>\n",
       "  </tbody>\n",
       "</table>\n",
       "<p>100 rows × 4 columns</p>\n",
       "</div>"
      ],
      "text/plain": [
       "        ligand_id  y_score_Kd  y_score_Ki     score\n",
       "0    CHEMBL100382    1.904883    0.692365  1.298624\n",
       "1   CHEMBL1087462    1.615053    1.424461  1.519757\n",
       "2   CHEMBL1087727    0.448480    1.279040  0.863760\n",
       "3   CHEMBL1087820    1.374507    1.638831  1.506669\n",
       "4   CHEMBL1088247    1.234403    1.427052  1.330727\n",
       "..            ...         ...         ...       ...\n",
       "95    CHEMBL77279    1.939756    1.800613  1.870185\n",
       "96    CHEMBL81616    1.657878    1.365310  1.511594\n",
       "97    CHEMBL85864    0.731613    1.624214  1.177913\n",
       "98    CHEMBL87981    0.970803    1.689404  1.330103\n",
       "99    CHEMBL95101    2.635237    2.858854  2.747045\n",
       "\n",
       "[100 rows x 4 columns]"
      ]
     },
     "execution_count": 13,
     "metadata": {},
     "output_type": "execute_result"
    }
   ],
   "source": [
    "averaged_df"
   ]
  }
 ],
 "metadata": {
  "kernelspec": {
   "display_name": "Python 3 (ipykernel)",
   "language": "python",
   "name": "python3"
  },
  "language_info": {
   "codemirror_mode": {
    "name": "ipython",
    "version": 3
   },
   "file_extension": ".py",
   "mimetype": "text/x-python",
   "name": "python",
   "nbconvert_exporter": "python",
   "pygments_lexer": "ipython3",
   "version": "3.7.11"
  }
 },
 "nbformat": 4,
 "nbformat_minor": 5
}
