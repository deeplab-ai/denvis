{
 "cells": [
  {
   "cell_type": "markdown",
   "id": "7f6c7db3-07db-4457-8acb-e1da27c0ccca",
   "metadata": {},
   "source": [
    "# PDBbind affinity distribution\n",
    "This notebook analyses the distributions of the three binding affinity metrics in the PDBbind general set.\n",
    "\n",
    "* Kd (dissociation constant)\n",
    "* Ki (association constan)\n",
    "* IC50 (half-maximal inhibitory concentration)"
   ]
  },
  {
   "cell_type": "code",
   "execution_count": 1,
   "id": "6eee089c-70d5-4dfc-a295-1c26587d9180",
   "metadata": {},
   "outputs": [],
   "source": [
    "import numpy as np\n",
    "import pandas as pd\n",
    "import matplotlib.pyplot as plt\n",
    "import seaborn as sns; sns.set()"
   ]
  },
  {
   "cell_type": "markdown",
   "id": "4ed5dfc9-6f3a-4e1d-8dfe-8ab0e870517f",
   "metadata": {},
   "source": [
    "# 1. Configuration"
   ]
  },
  {
   "cell_type": "code",
   "execution_count": 2,
   "id": "cfd60a3a-2015-418b-a049-4ae27a703f6d",
   "metadata": {},
   "outputs": [],
   "source": [
    "INDEX_PATH = '../data/pdbbind/INDEX_general_PL_data.2019'"
   ]
  },
  {
   "cell_type": "markdown",
   "id": "2d191902-b335-410e-bb96-5ab218df9cd5",
   "metadata": {},
   "source": [
    "# 2. Parse ressults"
   ]
  },
  {
   "cell_type": "code",
   "execution_count": 3,
   "id": "a4c7a58c-3865-49de-9fc1-3343412d3054",
   "metadata": {},
   "outputs": [],
   "source": [
    "contents = []\n",
    "with open(INDEX_PATH, 'r') as f:\n",
    "    for line in f.readlines():\n",
    "        if line[0] != \"#\":\n",
    "            splitted_elements = line.split()\n",
    "            if len(splitted_elements) == 8:\n",
    "                # Ignore \"//\"\n",
    "                contents.append(\n",
    "                    splitted_elements[:5] + splitted_elements[6:])\n",
    "            else:\n",
    "                continue\n",
    "\n",
    "# -logKd/Ki is the y label\n",
    "affinity_df = pd.DataFrame(contents, columns=(\n",
    "    'PDB_code', 'resolution', 'release_year',\n",
    "    '-logKd/Ki', 'Kd/Ki', 'reference', 'ligand_name'))\n",
    "\n",
    "affinity_df['-logKd/Ki'] = pd.to_numeric(affinity_df['-logKd/Ki'], downcast=\"float\")\n",
    "affinity_df['metric'] = affinity_df.apply(lambda row: row['Kd/Ki'][:2], axis=1)\n",
    "# Convert IC labels --> IC50\n",
    "affinity_df['metric'] = affinity_df['metric'].map({'Kd': 'Kd', 'Ki': 'Ki', 'IC': 'IC50'})"
   ]
  },
  {
   "cell_type": "markdown",
   "id": "15a1d1a8-42ab-4e33-b00b-f27834afab0d",
   "metadata": {},
   "source": [
    "# 3. Binding affinity metrics distributions (Figure S1)"
   ]
  },
  {
   "cell_type": "code",
   "execution_count": 4,
   "id": "bf49db6e-21ee-4e5e-96b4-929b177ca9c5",
   "metadata": {},
   "outputs": [
    {
     "data": {
      "image/png": "[encoded data removed]",
      "text/plain": [
       "<Figure size 288x180 with 1 Axes>"
      ]
     },
     "metadata": {},
     "output_type": "display_data"
    }
   ],
   "source": [
    "sns.set_context(\"paper\", font_scale=.8, rc={\"lines.linewidth\": 1.5})\n",
    "\n",
    "kde = True\n",
    "norm_hist = True\n",
    "figsize = (4.,2.5) \n",
    "color_palette = sns.color_palette(n_colors=3)\n",
    "\n",
    "fig = plt.figure(figsize=figsize)\n",
    "ax = fig.add_subplot(111)\n",
    "# This for loop is messy (it could work just by using a single call and the `hue` argument) but in this case it is impossible to edit the legend to remove the\n",
    "# legend name (metric)\n",
    "for metric, color in zip(['Kd', 'Ki', 'IC50'], color_palette):\n",
    "    sns.histplot(data=affinity_df[affinity_df['metric']==metric], x='-logKd/Ki', label=metric, kde=kde, stat=\"density\", common_norm=False, color=color, ax=ax)\n",
    "ax.legend()\n",
    "ax.set_ylabel('Density')\n",
    "ax.set_xlabel(r'$-\\log_{10} \\{K_i, K_d, IC_{50}\\}$')\n",
    "plt.show()"
   ]
  }
 ],
 "metadata": {
  "kernelspec": {
   "display_name": "Python 3 (ipykernel)",
   "language": "python",
   "name": "python3"
  },
  "language_info": {
   "codemirror_mode": {
    "name": "ipython",
    "version": 3
   },
   "file_extension": ".py",
   "mimetype": "text/x-python",
   "name": "python",
   "nbconvert_exporter": "python",
   "pygments_lexer": "ipython3",
   "version": "3.7.11"
  }
 },
 "nbformat": 4,
 "nbformat_minor": 5
}
